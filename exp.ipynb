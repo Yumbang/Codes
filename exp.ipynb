{
 "cells": [
  {
   "cell_type": "code",
   "execution_count": 1,
   "metadata": {},
   "outputs": [],
   "source": [
    "import numpy as np\n",
    "import torch\n",
    "from torch.utils.data import Dataset, DataLoader\n",
    "from typing import Type\n",
    "from torch import nn\n",
    "from torch.optim import optimizer\n",
    "import rasterio\n",
    "import zipfile\n",
    "from matplotlib import pyplot as plt\n",
    "import datetime\n",
    "from torchvision import transforms as transforms\n",
    "import os\n",
    "\n",
    "# --- GPU selection --- #\n",
    "gpus = 2 # slot number (e.g., 3), no gpu use -> write just ' '\n",
    "os.environ[\"CUDA_DEVICE_ORDER\"]=\"PCI_BUS_ID\"\n",
    "os.environ[\"CUDA_VISIBLE_DEVICES\"]=str(gpus)\n",
    "device = torch.device('cuda:0' if torch.cuda.is_available() else 'cpu')\n",
    "device = torch.device('cpu')\n",
    "lidar_image = rasterio.open('../Data/N12/N12_lidar.tif').read()\n",
    "lidar_array = np.array(lidar_image)\n",
    "\n",
    "lidar_1n_image = rasterio.open('../Data/N12/N12_lidar_1n.tif').read()\n",
    "lidar_1n_array = np.array(lidar_1n_image)\n",
    "\n",
    "lidar_nt_image = rasterio.open('../Data/N12/N12_lidar_nt.tif').read()\n",
    "lidar_nt_array = np.array(lidar_nt_image)\n",
    "\n",
    "RGB2020_image = rasterio.open('../Data/N12/N12_RGB2020.tif').read()\n",
    "RGB2020_array = np.array(RGB2020_image)\n",
    "\n",
    "train_array = np.stack([lidar_array, lidar_1n_array, lidar_nt_array]).squeeze()\n",
    "train_array = np.concatenate((train_array,RGB2020_array))\n",
    "target_image = rasterio.open('../Data/N12/N12_newlc.tif').read()\n",
    "target_array = np.array(target_image, dtype=int).squeeze()\n",
    "\n",
    "target_array = np.where(target_array == 1, 0, target_array)\n",
    "target_array = np.where(target_array == 2, 1, target_array)\n",
    "target_array = np.where(target_array == 7, 2, target_array)\n",
    "target_array = np.where(target_array == 8, 3, target_array)\n",
    "target_array = np.where(target_array == 9, 4, target_array)\n",
    "target_array = np.where(target_array == 10, 5, target_array)\n",
    "target_array = np.where(target_array == 11, 6, target_array)"
   ]
  },
  {
   "cell_type": "code",
   "execution_count": 3,
   "metadata": {},
   "outputs": [
    {
     "name": "stdout",
     "output_type": "stream",
     "text": [
      "(3600, 7)\n"
     ]
    }
   ],
   "source": [
    "data_array = train_array\n",
    "patch_size=40\n",
    "\n",
    "data = np.zeros(((data_array.shape[1]//patch_size) * (data_array.shape[2]//patch_size), data_array.shape[0], patch_size, patch_size))\n",
    "for i in range(0,data_array.shape[1]//patch_size):\n",
    "    for j in range(0,data_array.shape[2]//patch_size):\n",
    "        data[data_array.shape[1]//patch_size*i+j,:,:,:] = data_array[:,i*patch_size:(i+1)*patch_size, j*patch_size:(j+1)*patch_size] #고치기\n",
    "        \n",
    "        #self.data =np.append(self.data, np.zeros(((1, data_array.shape[0], patch_size, patch_size))), axis = 0)\n",
    "        #self.data = np.concatenate(self.data, np.zeros(((1, data_array.shape[0], patch_size, patch_size))))\n",
    "\n",
    "label = np.zeros(((data_array.shape[1]//patch_size) * (data_array.shape[2]//patch_size),data_array.shape[0]+1))\n",
    "print(label.shape)\n",
    "\n",
    "for k in range(0,data_array.shape[1]//patch_size):\n",
    "    for l in range(0,data_array.shape[2]//patch_size):\n",
    "        label[data_array.shape[1]//patch_size*k+l,:] = np.bincount(target_array[k*patch_size:(k+1)*patch_size, l*patch_size:(l+1)*patch_size].reshape(-1), minlength=7)/(patch_size*patch_size)"
   ]
  },
  {
   "cell_type": "code",
   "execution_count": 5,
   "metadata": {},
   "outputs": [],
   "source": [
    "simple_transform = transforms.Compose(\n",
    "    transforms=[transforms.ToTensor(),\n",
    "    transforms.Normalize(mean=1, std=0.5)]\n",
    ")"
   ]
  },
  {
   "cell_type": "code",
   "execution_count": 7,
   "metadata": {},
   "outputs": [],
   "source": [
    "data_transformed = simple_transform(data[0,:,:,:])"
   ]
  },
  {
   "cell_type": "code",
   "execution_count": 26,
   "metadata": {},
   "outputs": [],
   "source": [
    "random_arr = np.random.random((6,40,40))\n",
    "foo_transform = transforms.Compose(\n",
    "    transforms=[transforms.Normalize(mean=1.0, std=0.5)]\n",
    ")"
   ]
  },
  {
   "cell_type": "code",
   "execution_count": 25,
   "metadata": {},
   "outputs": [],
   "source": [
    "data_tensor = torch.as_tensor(data).float()\n",
    "data_tensor = foo_transform(data_tensor)"
   ]
  },
  {
   "cell_type": "code",
   "execution_count": 43,
   "metadata": {},
   "outputs": [],
   "source": [
    "now = datetime.datetime.now()\n",
    "path = '../Data/N12/Model/'\n",
    "os.makedirs(os.path.join(path,f'{now.year}.{now.month}.{now.day}/', 'tmp/'), exist_ok=True)"
   ]
  },
  {
   "cell_type": "code",
   "execution_count": 44,
   "metadata": {},
   "outputs": [
    {
     "data": {
      "text/plain": [
       "13"
      ]
     },
     "execution_count": 44,
     "metadata": {},
     "output_type": "execute_result"
    }
   ],
   "source": [
    "now.hour"
   ]
  },
  {
   "cell_type": "code",
   "execution_count": 45,
   "metadata": {},
   "outputs": [
    {
     "data": {
      "text/plain": [
       "'RESULT_13.38'"
      ]
     },
     "execution_count": 45,
     "metadata": {},
     "output_type": "execute_result"
    }
   ],
   "source": [
    "'RESULT_{0:0=2d}.{1:0=2d}'.format(now.hour, now.minute)"
   ]
  },
  {
   "cell_type": "code",
   "execution_count": 4,
   "metadata": {},
   "outputs": [
    {
     "data": {
      "text/plain": [
       "(3, 4)"
      ]
     },
     "execution_count": 4,
     "metadata": {},
     "output_type": "execute_result"
    }
   ],
   "source": [
    "import numpy as np\n",
    "rand = np.random.permutation(100)\n",
    "rand.shape\n",
    "rand = np.random.randn(3,4)\n",
    "rand.shape"
   ]
  },
  {
   "cell_type": "code",
   "execution_count": 7,
   "metadata": {},
   "outputs": [
    {
     "name": "stdout",
     "output_type": "stream",
     "text": [
      "(6, 2400, 2400)\n",
      "(12, 2400, 2400)\n"
     ]
    }
   ],
   "source": [
    "data = np.random.randn(6,2400,2400)\n",
    "for i in range(2):\n",
    "    rotated_data = np.rot90(data, k=i+1, axes=(-2, -1))\n",
    "    print(rotated_data.shape)\n",
    "    data = np.concatenate((data, rotated_data), axis=0)"
   ]
  },
  {
   "cell_type": "code",
   "execution_count": 2,
   "metadata": {},
   "outputs": [],
   "source": [
    "train_array = np.load('../Data/N12/np/train_array.npy')"
   ]
  },
  {
   "cell_type": "code",
   "execution_count": 1,
   "metadata": {},
   "outputs": [],
   "source": [
    "def calc_pad(i:int)->int:\n",
    "    x = i\n",
    "    for j in range(4):\n",
    "        x = x*2\n",
    "        x = x-4\n",
    "    return x"
   ]
  },
  {
   "cell_type": "code",
   "execution_count": 7,
   "metadata": {},
   "outputs": [],
   "source": [
    "def calc(i:int)->int:\n",
    "    x = i\n",
    "    for j in range(4):\n",
    "        x = x*2\n",
    "        x = x+4\n",
    "    return x"
   ]
  },
  {
   "cell_type": "code",
   "execution_count": 5,
   "metadata": {},
   "outputs": [
    {
     "name": "stdout",
     "output_type": "stream",
     "text": [
      "Value:0 | Output:-60\n",
      "Value:3 | Output:-12\n",
      "Value:4 | Output:4\n",
      "Value:5 | Output:20\n",
      "Value:10 | Output:100\n"
     ]
    }
   ],
   "source": [
    "for i in range(4000):\n",
    "    x = calc_pad(i)\n",
    "    if 2400%x == 0:\n",
    "        print(f'Value:{i} | Output:{x}')"
   ]
  },
  {
   "cell_type": "code",
   "execution_count": 9,
   "metadata": {},
   "outputs": [
    {
     "name": "stdout",
     "output_type": "stream",
     "text": [
      "Value:0 | Output:60\n",
      "Value:1 | Output:76\n",
      "Value:2 | Output:92\n",
      "Value:3 | Output:108\n",
      "Value:4 | Output:124\n",
      "Value:5 | Output:140\n",
      "Value:6 | Output:156\n",
      "Value:7 | Output:172\n",
      "Value:8 | Output:188\n",
      "Value:9 | Output:204\n",
      "Value:10 | Output:220\n",
      "Value:11 | Output:236\n",
      "Value:12 | Output:252\n",
      "Value:13 | Output:268\n",
      "Value:14 | Output:284\n",
      "Value:15 | Output:300\n",
      "Value:16 | Output:316\n",
      "Value:17 | Output:332\n",
      "Value:18 | Output:348\n",
      "Value:19 | Output:364\n",
      "Value:20 | Output:380\n",
      "Value:21 | Output:396\n",
      "Value:22 | Output:412\n",
      "Value:23 | Output:428\n",
      "Value:24 | Output:444\n",
      "Value:25 | Output:460\n",
      "Value:26 | Output:476\n",
      "Value:27 | Output:492\n",
      "Value:28 | Output:508\n",
      "Value:29 | Output:524\n",
      "Value:30 | Output:540\n",
      "Value:31 | Output:556\n",
      "Value:32 | Output:572\n",
      "Value:33 | Output:588\n",
      "Value:34 | Output:604\n",
      "Value:35 | Output:620\n",
      "Value:36 | Output:636\n",
      "Value:37 | Output:652\n",
      "Value:38 | Output:668\n",
      "Value:39 | Output:684\n",
      "Value:40 | Output:700\n",
      "Value:41 | Output:716\n",
      "Value:42 | Output:732\n",
      "Value:43 | Output:748\n",
      "Value:44 | Output:764\n",
      "Value:45 | Output:780\n",
      "Value:46 | Output:796\n",
      "Value:47 | Output:812\n",
      "Value:48 | Output:828\n",
      "Value:49 | Output:844\n",
      "Value:50 | Output:860\n",
      "Value:51 | Output:876\n",
      "Value:52 | Output:892\n",
      "Value:53 | Output:908\n",
      "Value:54 | Output:924\n",
      "Value:55 | Output:940\n",
      "Value:56 | Output:956\n",
      "Value:57 | Output:972\n",
      "Value:58 | Output:988\n",
      "Value:59 | Output:1004\n",
      "Value:60 | Output:1020\n",
      "Value:61 | Output:1036\n",
      "Value:62 | Output:1052\n",
      "Value:63 | Output:1068\n",
      "Value:64 | Output:1084\n",
      "Value:65 | Output:1100\n",
      "Value:66 | Output:1116\n",
      "Value:67 | Output:1132\n",
      "Value:68 | Output:1148\n",
      "Value:69 | Output:1164\n",
      "Value:70 | Output:1180\n",
      "Value:71 | Output:1196\n",
      "Value:72 | Output:1212\n",
      "Value:73 | Output:1228\n",
      "Value:74 | Output:1244\n",
      "Value:75 | Output:1260\n",
      "Value:76 | Output:1276\n",
      "Value:77 | Output:1292\n",
      "Value:78 | Output:1308\n",
      "Value:79 | Output:1324\n",
      "Value:80 | Output:1340\n",
      "Value:81 | Output:1356\n",
      "Value:82 | Output:1372\n",
      "Value:83 | Output:1388\n",
      "Value:84 | Output:1404\n",
      "Value:85 | Output:1420\n",
      "Value:86 | Output:1436\n",
      "Value:87 | Output:1452\n",
      "Value:88 | Output:1468\n",
      "Value:89 | Output:1484\n",
      "Value:90 | Output:1500\n",
      "Value:91 | Output:1516\n",
      "Value:92 | Output:1532\n",
      "Value:93 | Output:1548\n",
      "Value:94 | Output:1564\n",
      "Value:95 | Output:1580\n",
      "Value:96 | Output:1596\n",
      "Value:97 | Output:1612\n",
      "Value:98 | Output:1628\n",
      "Value:99 | Output:1644\n",
      "Value:100 | Output:1660\n",
      "Value:101 | Output:1676\n",
      "Value:102 | Output:1692\n",
      "Value:103 | Output:1708\n",
      "Value:104 | Output:1724\n",
      "Value:105 | Output:1740\n",
      "Value:106 | Output:1756\n",
      "Value:107 | Output:1772\n",
      "Value:108 | Output:1788\n",
      "Value:109 | Output:1804\n",
      "Value:110 | Output:1820\n",
      "Value:111 | Output:1836\n",
      "Value:112 | Output:1852\n",
      "Value:113 | Output:1868\n",
      "Value:114 | Output:1884\n",
      "Value:115 | Output:1900\n",
      "Value:116 | Output:1916\n",
      "Value:117 | Output:1932\n",
      "Value:118 | Output:1948\n",
      "Value:119 | Output:1964\n",
      "Value:120 | Output:1980\n",
      "Value:121 | Output:1996\n",
      "Value:122 | Output:2012\n",
      "Value:123 | Output:2028\n",
      "Value:124 | Output:2044\n",
      "Value:125 | Output:2060\n",
      "Value:126 | Output:2076\n",
      "Value:127 | Output:2092\n",
      "Value:128 | Output:2108\n",
      "Value:129 | Output:2124\n",
      "Value:130 | Output:2140\n",
      "Value:131 | Output:2156\n",
      "Value:132 | Output:2172\n",
      "Value:133 | Output:2188\n",
      "Value:134 | Output:2204\n",
      "Value:135 | Output:2220\n",
      "Value:136 | Output:2236\n",
      "Value:137 | Output:2252\n",
      "Value:138 | Output:2268\n",
      "Value:139 | Output:2284\n",
      "Value:140 | Output:2300\n",
      "Value:141 | Output:2316\n",
      "Value:142 | Output:2332\n",
      "Value:143 | Output:2348\n",
      "Value:144 | Output:2364\n",
      "Value:145 | Output:2380\n",
      "Value:146 | Output:2396\n",
      "Value:147 | Output:2412\n",
      "Value:148 | Output:2428\n",
      "Value:149 | Output:2444\n",
      "Value:150 | Output:2460\n",
      "Value:151 | Output:2476\n",
      "Value:152 | Output:2492\n",
      "Value:153 | Output:2508\n",
      "Value:154 | Output:2524\n",
      "Value:155 | Output:2540\n",
      "Value:156 | Output:2556\n",
      "Value:157 | Output:2572\n",
      "Value:158 | Output:2588\n",
      "Value:159 | Output:2604\n",
      "Value:160 | Output:2620\n",
      "Value:161 | Output:2636\n",
      "Value:162 | Output:2652\n",
      "Value:163 | Output:2668\n",
      "Value:164 | Output:2684\n",
      "Value:165 | Output:2700\n",
      "Value:166 | Output:2716\n",
      "Value:167 | Output:2732\n",
      "Value:168 | Output:2748\n",
      "Value:169 | Output:2764\n",
      "Value:170 | Output:2780\n",
      "Value:171 | Output:2796\n",
      "Value:172 | Output:2812\n",
      "Value:173 | Output:2828\n",
      "Value:174 | Output:2844\n",
      "Value:175 | Output:2860\n",
      "Value:176 | Output:2876\n",
      "Value:177 | Output:2892\n",
      "Value:178 | Output:2908\n",
      "Value:179 | Output:2924\n",
      "Value:180 | Output:2940\n",
      "Value:181 | Output:2956\n",
      "Value:182 | Output:2972\n",
      "Value:183 | Output:2988\n",
      "Value:184 | Output:3004\n",
      "Value:185 | Output:3020\n",
      "Value:186 | Output:3036\n",
      "Value:187 | Output:3052\n",
      "Value:188 | Output:3068\n",
      "Value:189 | Output:3084\n",
      "Value:190 | Output:3100\n",
      "Value:191 | Output:3116\n",
      "Value:192 | Output:3132\n",
      "Value:193 | Output:3148\n",
      "Value:194 | Output:3164\n",
      "Value:195 | Output:3180\n",
      "Value:196 | Output:3196\n",
      "Value:197 | Output:3212\n",
      "Value:198 | Output:3228\n",
      "Value:199 | Output:3244\n"
     ]
    }
   ],
   "source": [
    "for i in range(200):\n",
    "    x = calc(i)\n",
    "    print(f'Value:{i} | Output:{x}')"
   ]
  },
  {
   "cell_type": "code",
   "execution_count": null,
   "metadata": {},
   "outputs": [],
   "source": []
  }
 ],
 "metadata": {
  "kernelspec": {
   "display_name": "Python 3.7.13 ('tt')",
   "language": "python",
   "name": "python3"
  },
  "language_info": {
   "codemirror_mode": {
    "name": "ipython",
    "version": 3
   },
   "file_extension": ".py",
   "mimetype": "text/x-python",
   "name": "python",
   "nbconvert_exporter": "python",
   "pygments_lexer": "ipython3",
   "version": "3.7.13"
  },
  "orig_nbformat": 4,
  "vscode": {
   "interpreter": {
    "hash": "8bef1a0741f78125b97ca6015f4b21165d553afbb2c419d3dfb1350931d81372"
   }
  }
 },
 "nbformat": 4,
 "nbformat_minor": 2
}
