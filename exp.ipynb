{
 "cells": [
  {
   "cell_type": "code",
   "execution_count": 1,
   "metadata": {},
   "outputs": [],
   "source": [
    "import numpy as np\n",
    "import torch\n",
    "from torch.utils.data import Dataset, DataLoader\n",
    "from typing import Type\n",
    "from torch import nn\n",
    "from torch.optim import optimizer\n",
    "import rasterio\n",
    "import zipfile\n",
    "from matplotlib import pyplot as plt\n",
    "import datetime\n",
    "from torchvision import transforms as transforms\n",
    "import os\n",
    "\n",
    "# --- GPU selection --- #\n",
    "gpus = 2 # slot number (e.g., 3), no gpu use -> write just ' '\n",
    "os.environ[\"CUDA_DEVICE_ORDER\"]=\"PCI_BUS_ID\"\n",
    "os.environ[\"CUDA_VISIBLE_DEVICES\"]=str(gpus)\n",
    "device = torch.device('cuda:0' if torch.cuda.is_available() else 'cpu')\n",
    "device = torch.device('cpu')\n",
    "lidar_image = rasterio.open('../Data/N12/N12_lidar.tif').read()\n",
    "lidar_array = np.array(lidar_image)\n",
    "\n",
    "lidar_1n_image = rasterio.open('../Data/N12/N12_lidar_1n.tif').read()\n",
    "lidar_1n_array = np.array(lidar_1n_image)\n",
    "\n",
    "lidar_nt_image = rasterio.open('../Data/N12/N12_lidar_nt.tif').read()\n",
    "lidar_nt_array = np.array(lidar_nt_image)\n",
    "\n",
    "RGB2020_image = rasterio.open('../Data/N12/N12_RGB2020.tif').read()\n",
    "RGB2020_array = np.array(RGB2020_image)\n",
    "\n",
    "train_array = np.stack([lidar_array, lidar_1n_array, lidar_nt_array]).squeeze()\n",
    "train_array = np.concatenate((train_array,RGB2020_array))\n",
    "target_image = rasterio.open('../Data/N12/N12_newlc.tif').read()\n",
    "target_array = np.array(target_image, dtype=int).squeeze()\n",
    "\n",
    "target_array = np.where(target_array == 1, 0, target_array)\n",
    "target_array = np.where(target_array == 2, 1, target_array)\n",
    "target_array = np.where(target_array == 7, 2, target_array)\n",
    "target_array = np.where(target_array == 8, 3, target_array)\n",
    "target_array = np.where(target_array == 9, 4, target_array)\n",
    "target_array = np.where(target_array == 10, 5, target_array)\n",
    "target_array = np.where(target_array == 11, 6, target_array)"
   ]
  },
  {
   "cell_type": "code",
   "execution_count": 3,
   "metadata": {},
   "outputs": [
    {
     "name": "stdout",
     "output_type": "stream",
     "text": [
      "(3600, 7)\n"
     ]
    }
   ],
   "source": [
    "data_array = train_array\n",
    "patch_size=40\n",
    "\n",
    "data = np.zeros(((data_array.shape[1]//patch_size) * (data_array.shape[2]//patch_size), data_array.shape[0], patch_size, patch_size))\n",
    "for i in range(0,data_array.shape[1]//patch_size):\n",
    "    for j in range(0,data_array.shape[2]//patch_size):\n",
    "        data[data_array.shape[1]//patch_size*i+j,:,:,:] = data_array[:,i*patch_size:(i+1)*patch_size, j*patch_size:(j+1)*patch_size] #고치기\n",
    "        \n",
    "        #self.data =np.append(self.data, np.zeros(((1, data_array.shape[0], patch_size, patch_size))), axis = 0)\n",
    "        #self.data = np.concatenate(self.data, np.zeros(((1, data_array.shape[0], patch_size, patch_size))))\n",
    "\n",
    "label = np.zeros(((data_array.shape[1]//patch_size) * (data_array.shape[2]//patch_size),data_array.shape[0]+1))\n",
    "print(label.shape)\n",
    "\n",
    "for k in range(0,data_array.shape[1]//patch_size):\n",
    "    for l in range(0,data_array.shape[2]//patch_size):\n",
    "        label[data_array.shape[1]//patch_size*k+l,:] = np.bincount(target_array[k*patch_size:(k+1)*patch_size, l*patch_size:(l+1)*patch_size].reshape(-1), minlength=7)/(patch_size*patch_size)"
   ]
  },
  {
   "cell_type": "code",
   "execution_count": 5,
   "metadata": {},
   "outputs": [],
   "source": [
    "simple_transform = transforms.Compose(\n",
    "    transforms=[transforms.ToTensor(),\n",
    "    transforms.Normalize(mean=1, std=0.5)]\n",
    ")"
   ]
  },
  {
   "cell_type": "code",
   "execution_count": 7,
   "metadata": {},
   "outputs": [],
   "source": [
    "data_transformed = simple_transform(data[0,:,:,:])"
   ]
  },
  {
   "cell_type": "code",
   "execution_count": 26,
   "metadata": {},
   "outputs": [],
   "source": [
    "random_arr = np.random.random((6,40,40))\n",
    "foo_transform = transforms.Compose(\n",
    "    transforms=[transforms.Normalize(mean=1.0, std=0.5)]\n",
    ")"
   ]
  },
  {
   "cell_type": "code",
   "execution_count": 25,
   "metadata": {},
   "outputs": [],
   "source": [
    "data_tensor = torch.as_tensor(data).float()\n",
    "data_tensor = foo_transform(data_tensor)"
   ]
  },
  {
   "cell_type": "code",
   "execution_count": 43,
   "metadata": {},
   "outputs": [],
   "source": [
    "now = datetime.datetime.now()\n",
    "path = '../Data/N12/Model/'\n",
    "os.makedirs(os.path.join(path,f'{now.year}.{now.month}.{now.day}/', 'tmp/'), exist_ok=True)"
   ]
  },
  {
   "cell_type": "code",
   "execution_count": 44,
   "metadata": {},
   "outputs": [
    {
     "data": {
      "text/plain": [
       "13"
      ]
     },
     "execution_count": 44,
     "metadata": {},
     "output_type": "execute_result"
    }
   ],
   "source": [
    "now.hour"
   ]
  },
  {
   "cell_type": "code",
   "execution_count": 45,
   "metadata": {},
   "outputs": [
    {
     "data": {
      "text/plain": [
       "'RESULT_13.38'"
      ]
     },
     "execution_count": 45,
     "metadata": {},
     "output_type": "execute_result"
    }
   ],
   "source": [
    "'RESULT_{0:0=2d}.{1:0=2d}'.format(now.hour, now.minute)"
   ]
  },
  {
   "cell_type": "code",
   "execution_count": 4,
   "metadata": {},
   "outputs": [
    {
     "data": {
      "text/plain": [
       "(3, 4)"
      ]
     },
     "execution_count": 4,
     "metadata": {},
     "output_type": "execute_result"
    }
   ],
   "source": [
    "import numpy as np\n",
    "rand = np.random.permutation(100)\n",
    "rand.shape\n",
    "rand = np.random.randn(3,4)\n",
    "rand.shape"
   ]
  },
  {
   "cell_type": "code",
   "execution_count": 7,
   "metadata": {},
   "outputs": [
    {
     "name": "stdout",
     "output_type": "stream",
     "text": [
      "(6, 2400, 2400)\n",
      "(12, 2400, 2400)\n"
     ]
    }
   ],
   "source": [
    "data = np.random.randn(6,2400,2400)\n",
    "for i in range(2):\n",
    "    rotated_data = np.rot90(data, k=i+1, axes=(-2, -1))\n",
    "    print(rotated_data.shape)\n",
    "    data = np.concatenate((data, rotated_data), axis=0)"
   ]
  },
  {
   "cell_type": "code",
   "execution_count": 2,
   "metadata": {},
   "outputs": [],
   "source": [
    "train_array = np.load('../Data/N12/np/train_array.npy')"
   ]
  }
 ],
 "metadata": {
  "kernelspec": {
   "display_name": "Python 3.7.13 ('urban_green_new')",
   "language": "python",
   "name": "python3"
  },
  "language_info": {
   "codemirror_mode": {
    "name": "ipython",
    "version": 3
   },
   "file_extension": ".py",
   "mimetype": "text/x-python",
   "name": "python",
   "nbconvert_exporter": "python",
   "pygments_lexer": "ipython3",
   "version": "3.7.13"
  },
  "orig_nbformat": 4,
  "vscode": {
   "interpreter": {
    "hash": "62bc9e79603ada34bc4a4ed2cfd19a540a539dc586b1e2074bc86c5897612d14"
   }
  }
 },
 "nbformat": 4,
 "nbformat_minor": 2
}
